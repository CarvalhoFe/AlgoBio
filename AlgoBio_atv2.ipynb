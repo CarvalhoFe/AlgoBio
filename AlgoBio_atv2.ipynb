{
  "cells": [
    {
      "cell_type": "markdown",
      "source": [
        "# **Algoritmo:**\n",
        "\n",
        "*   Primeiro contamos quantas sequências de DNA existe no arquivo e guardamos seus nomes\n",
        "*   Contar a quantidade de cada letra existente da sequência (A, T, C, G)\n",
        "*   Somar a quantidade total de letras na sequencia \n",
        "*   Somar a quantidade de G e C\n",
        "*   Dividir a quantidade de G e C pelo total de letras e depois multiplicando por 100, assim descobrindo a porcentagem de G e C em relação ao total\n",
        "*   Calcular a Temperatura Melting, usando a formula: TM= 64.9 + 0.41 * ((C + G/total de letras da sequência)*100]) - (500 / total de letras da sequência)\n",
        "*   Fazer o mesmo com todas as sequências existentes no arquivo\n",
        "*   Criar uma tabela com as informações obtidas, sendo elas: Nome da sequência, porcentagem de GC e temperatura melting\n",
        "*   Fazer um gráfico relacionando a porcentagem de GC com a temperatura melting\n",
        "\n",
        "\n",
        "\n",
        "\n",
        "\n",
        "\n",
        "\n",
        "\n",
        "\n",
        "\n",
        "\n",
        "\n"
      ],
      "metadata": {
        "id": "g58sFxjzcU1b"
      }
    },
    {
      "cell_type": "code",
      "source": [
        "# Biblioteca que fornece ferramentas para trabalhar com dados de bioinformática\n",
        "!pip install biopython"
      ],
      "metadata": {
        "id": "4REgc6vDjc8u",
        "outputId": "8f2021f7-3b4c-4dfa-cf05-7950fd808df7",
        "colab": {
          "base_uri": "https://localhost:8080/"
        }
      },
      "execution_count": null,
      "outputs": [
        {
          "output_type": "stream",
          "name": "stdout",
          "text": [
            "Looking in indexes: https://pypi.org/simple, https://us-python.pkg.dev/colab-wheels/public/simple/\n",
            "Requirement already satisfied: biopython in /usr/local/lib/python3.9/dist-packages (1.81)\n",
            "Requirement already satisfied: numpy in /usr/local/lib/python3.9/dist-packages (from biopython) (1.22.4)\n"
          ]
        }
      ]
    },
    {
      "cell_type": "code",
      "source": [
        "# O SeqIO é um módulo da biopython que fornece ferramentas para ler e gravar sequências biológicas em vários formatos de arquivo\n",
        "from Bio import SeqIO\n",
        "# Ferramenta para plotar graficos\n",
        "import matplotlib.pyplot as plt"
      ],
      "metadata": {
        "id": "gKfXDrHCjzgj"
      },
      "execution_count": null,
      "outputs": []
    },
    {
      "cell_type": "code",
      "source": [
        "# Ferramenta para importar arquivos\n",
        "from google.colab import files\n",
        "\n",
        "uploaded = files.upload()"
      ],
      "metadata": {
        "colab": {
          "base_uri": "https://localhost:8080/",
          "height": 73
        },
        "id": "6ud2StfIj09E",
        "outputId": "8ea0bda3-67e1-417e-deea-06008b4449e0"
      },
      "execution_count": null,
      "outputs": [
        {
          "output_type": "display_data",
          "data": {
            "text/plain": [
              "<IPython.core.display.HTML object>"
            ],
            "text/html": [
              "\n",
              "     <input type=\"file\" id=\"files-cc39b182-bb8d-4413-8ceb-d124621d3245\" name=\"files[]\" multiple disabled\n",
              "        style=\"border:none\" />\n",
              "     <output id=\"result-cc39b182-bb8d-4413-8ceb-d124621d3245\">\n",
              "      Upload widget is only available when the cell has been executed in the\n",
              "      current browser session. Please rerun this cell to enable.\n",
              "      </output>\n",
              "      <script>// Copyright 2017 Google LLC\n",
              "//\n",
              "// Licensed under the Apache License, Version 2.0 (the \"License\");\n",
              "// you may not use this file except in compliance with the License.\n",
              "// You may obtain a copy of the License at\n",
              "//\n",
              "//      http://www.apache.org/licenses/LICENSE-2.0\n",
              "//\n",
              "// Unless required by applicable law or agreed to in writing, software\n",
              "// distributed under the License is distributed on an \"AS IS\" BASIS,\n",
              "// WITHOUT WARRANTIES OR CONDITIONS OF ANY KIND, either express or implied.\n",
              "// See the License for the specific language governing permissions and\n",
              "// limitations under the License.\n",
              "\n",
              "/**\n",
              " * @fileoverview Helpers for google.colab Python module.\n",
              " */\n",
              "(function(scope) {\n",
              "function span(text, styleAttributes = {}) {\n",
              "  const element = document.createElement('span');\n",
              "  element.textContent = text;\n",
              "  for (const key of Object.keys(styleAttributes)) {\n",
              "    element.style[key] = styleAttributes[key];\n",
              "  }\n",
              "  return element;\n",
              "}\n",
              "\n",
              "// Max number of bytes which will be uploaded at a time.\n",
              "const MAX_PAYLOAD_SIZE = 100 * 1024;\n",
              "\n",
              "function _uploadFiles(inputId, outputId) {\n",
              "  const steps = uploadFilesStep(inputId, outputId);\n",
              "  const outputElement = document.getElementById(outputId);\n",
              "  // Cache steps on the outputElement to make it available for the next call\n",
              "  // to uploadFilesContinue from Python.\n",
              "  outputElement.steps = steps;\n",
              "\n",
              "  return _uploadFilesContinue(outputId);\n",
              "}\n",
              "\n",
              "// This is roughly an async generator (not supported in the browser yet),\n",
              "// where there are multiple asynchronous steps and the Python side is going\n",
              "// to poll for completion of each step.\n",
              "// This uses a Promise to block the python side on completion of each step,\n",
              "// then passes the result of the previous step as the input to the next step.\n",
              "function _uploadFilesContinue(outputId) {\n",
              "  const outputElement = document.getElementById(outputId);\n",
              "  const steps = outputElement.steps;\n",
              "\n",
              "  const next = steps.next(outputElement.lastPromiseValue);\n",
              "  return Promise.resolve(next.value.promise).then((value) => {\n",
              "    // Cache the last promise value to make it available to the next\n",
              "    // step of the generator.\n",
              "    outputElement.lastPromiseValue = value;\n",
              "    return next.value.response;\n",
              "  });\n",
              "}\n",
              "\n",
              "/**\n",
              " * Generator function which is called between each async step of the upload\n",
              " * process.\n",
              " * @param {string} inputId Element ID of the input file picker element.\n",
              " * @param {string} outputId Element ID of the output display.\n",
              " * @return {!Iterable<!Object>} Iterable of next steps.\n",
              " */\n",
              "function* uploadFilesStep(inputId, outputId) {\n",
              "  const inputElement = document.getElementById(inputId);\n",
              "  inputElement.disabled = false;\n",
              "\n",
              "  const outputElement = document.getElementById(outputId);\n",
              "  outputElement.innerHTML = '';\n",
              "\n",
              "  const pickedPromise = new Promise((resolve) => {\n",
              "    inputElement.addEventListener('change', (e) => {\n",
              "      resolve(e.target.files);\n",
              "    });\n",
              "  });\n",
              "\n",
              "  const cancel = document.createElement('button');\n",
              "  inputElement.parentElement.appendChild(cancel);\n",
              "  cancel.textContent = 'Cancel upload';\n",
              "  const cancelPromise = new Promise((resolve) => {\n",
              "    cancel.onclick = () => {\n",
              "      resolve(null);\n",
              "    };\n",
              "  });\n",
              "\n",
              "  // Wait for the user to pick the files.\n",
              "  const files = yield {\n",
              "    promise: Promise.race([pickedPromise, cancelPromise]),\n",
              "    response: {\n",
              "      action: 'starting',\n",
              "    }\n",
              "  };\n",
              "\n",
              "  cancel.remove();\n",
              "\n",
              "  // Disable the input element since further picks are not allowed.\n",
              "  inputElement.disabled = true;\n",
              "\n",
              "  if (!files) {\n",
              "    return {\n",
              "      response: {\n",
              "        action: 'complete',\n",
              "      }\n",
              "    };\n",
              "  }\n",
              "\n",
              "  for (const file of files) {\n",
              "    const li = document.createElement('li');\n",
              "    li.append(span(file.name, {fontWeight: 'bold'}));\n",
              "    li.append(span(\n",
              "        `(${file.type || 'n/a'}) - ${file.size} bytes, ` +\n",
              "        `last modified: ${\n",
              "            file.lastModifiedDate ? file.lastModifiedDate.toLocaleDateString() :\n",
              "                                    'n/a'} - `));\n",
              "    const percent = span('0% done');\n",
              "    li.appendChild(percent);\n",
              "\n",
              "    outputElement.appendChild(li);\n",
              "\n",
              "    const fileDataPromise = new Promise((resolve) => {\n",
              "      const reader = new FileReader();\n",
              "      reader.onload = (e) => {\n",
              "        resolve(e.target.result);\n",
              "      };\n",
              "      reader.readAsArrayBuffer(file);\n",
              "    });\n",
              "    // Wait for the data to be ready.\n",
              "    let fileData = yield {\n",
              "      promise: fileDataPromise,\n",
              "      response: {\n",
              "        action: 'continue',\n",
              "      }\n",
              "    };\n",
              "\n",
              "    // Use a chunked sending to avoid message size limits. See b/62115660.\n",
              "    let position = 0;\n",
              "    do {\n",
              "      const length = Math.min(fileData.byteLength - position, MAX_PAYLOAD_SIZE);\n",
              "      const chunk = new Uint8Array(fileData, position, length);\n",
              "      position += length;\n",
              "\n",
              "      const base64 = btoa(String.fromCharCode.apply(null, chunk));\n",
              "      yield {\n",
              "        response: {\n",
              "          action: 'append',\n",
              "          file: file.name,\n",
              "          data: base64,\n",
              "        },\n",
              "      };\n",
              "\n",
              "      let percentDone = fileData.byteLength === 0 ?\n",
              "          100 :\n",
              "          Math.round((position / fileData.byteLength) * 100);\n",
              "      percent.textContent = `${percentDone}% done`;\n",
              "\n",
              "    } while (position < fileData.byteLength);\n",
              "  }\n",
              "\n",
              "  // All done.\n",
              "  yield {\n",
              "    response: {\n",
              "      action: 'complete',\n",
              "    }\n",
              "  };\n",
              "}\n",
              "\n",
              "scope.google = scope.google || {};\n",
              "scope.google.colab = scope.google.colab || {};\n",
              "scope.google.colab._files = {\n",
              "  _uploadFiles,\n",
              "  _uploadFilesContinue,\n",
              "};\n",
              "})(self);\n",
              "</script> "
            ]
          },
          "metadata": {}
        },
        {
          "output_type": "stream",
          "name": "stdout",
          "text": [
            "Saving Influenza H3N2.fasta to Influenza H3N2.fasta\n"
          ]
        }
      ]
    },
    {
      "cell_type": "code",
      "source": [
        "# Lê o arquivo de entrada e armazena as sequências em uma lista\n",
        "sequencias = list(SeqIO.parse('Influenza H3N2.fasta', 'fasta'))\n",
        "\n",
        "# Conta o número de sequências\n",
        "num_sequencias = len(sequencias)\n",
        "print(f\"Existem {num_sequencias} sequências de DNA no arquivo\\n\")\n",
        "\n",
        "# Inicializa listas para armazenar resultados\n",
        "ids_sequencias = []\n",
        "total_nucleotideos = []\n",
        "conteudos_GC = []\n",
        "\n",
        "# Processa cada sequência e armazena os resultados\n",
        "for seq in sequencias:\n",
        "    # Armazena o ID da sequência\n",
        "    ids_sequencias.append(seq.id)\n",
        "\n",
        "    # Conta os nucleotídeos\n",
        "    A = seq.seq.count('A')\n",
        "    T = seq.seq.count('T')\n",
        "    G = seq.seq.count('G')\n",
        "    C = seq.seq.count('C')\n",
        "    total_nuc = A + T + G + C\n",
        "    total_nucleotideos.append(total_nuc)\n",
        "\n",
        "    # Calcula o conteúdo de GC\n",
        "    GC = ((C + G) / total_nuc) * 100\n",
        "    conteudos_GC.append(GC)\n",
        "\n",
        "    # Imprime os resultados para a sequência atual\n",
        "    print(f\"Sequência: {seq.id}\")\n",
        "    print(f\"Quantidade de A's: {A}\")\n",
        "    print(f\"Quantidade de T's: {T}\")\n",
        "    print(f\"Quantidade de G's: {G}\")\n",
        "    print(f\"Quantidade de C's: {C}\")\n",
        "    print(f\"Total de nucleotídeos na sequência: {total_nuc}\")\n",
        "    print(f\"Conteúdo de GC: {GC}%\\n\")"
      ],
      "metadata": {
        "colab": {
          "base_uri": "https://localhost:8080/"
        },
        "id": "-BgFlnipLzgI",
        "outputId": "5bf79c8a-a4bc-477e-fb19-6670d972d31d"
      },
      "execution_count": null,
      "outputs": [
        {
          "output_type": "stream",
          "name": "stdout",
          "text": [
            "Existem 8 sequências de DNA no arquivo\n",
            "\n",
            "Sequência: NC_007373.1\n",
            "Quantidade de A's: 810\n",
            "Quantidade de T's: 536\n",
            "Quantidade de G's: 570\n",
            "Quantidade de C's: 425\n",
            "Total de nucleotídeos na sequência: 2341\n",
            "Conteúdo de GC: 42.503203759077316%\n",
            "\n",
            "Sequência: NC_007372.1\n",
            "Quantidade de A's: 831\n",
            "Quantidade de T's: 521\n",
            "Quantidade de G's: 529\n",
            "Quantidade de C's: 460\n",
            "Total de nucleotídeos na sequência: 2341\n",
            "Conteúdo de GC: 42.24690303289192%\n",
            "\n",
            "Sequência: NC_007371.1\n",
            "Quantidade de A's: 761\n",
            "Quantidade de T's: 541\n",
            "Quantidade de G's: 513\n",
            "Quantidade de C's: 418\n",
            "Total de nucleotídeos na sequência: 2233\n",
            "Conteúdo de GC: 41.692789968652036%\n",
            "\n",
            "Sequência: NC_007366.1\n",
            "Quantidade de A's: 600\n",
            "Quantidade de T's: 422\n",
            "Quantidade de G's: 387\n",
            "Quantidade de C's: 353\n",
            "Total de nucleotídeos na sequência: 1762\n",
            "Conteúdo de GC: 41.99772985244041%\n",
            "\n",
            "Sequência: NC_007369.1\n",
            "Quantidade de A's: 515\n",
            "Quantidade de T's: 334\n",
            "Quantidade de G's: 414\n",
            "Quantidade de C's: 303\n",
            "Total de nucleotídeos na sequência: 1566\n",
            "Conteúdo de GC: 45.785440613026815%\n",
            "\n",
            "Sequência: NC_007368.1\n",
            "Quantidade de A's: 463\n",
            "Quantidade de T's: 377\n",
            "Quantidade de G's: 342\n",
            "Quantidade de C's: 285\n",
            "Total de nucleotídeos na sequência: 1467\n",
            "Conteúdo de GC: 42.740286298568506%\n",
            "\n",
            "Sequência: NC_007367.1\n",
            "Quantidade de A's: 296\n",
            "Quantidade de T's: 251\n",
            "Quantidade de G's: 267\n",
            "Quantidade de C's: 213\n",
            "Total de nucleotídeos na sequência: 1027\n",
            "Conteúdo de GC: 46.73807205452775%\n",
            "\n",
            "Sequência: NC_007370.1\n",
            "Quantidade de A's: 305\n",
            "Quantidade de T's: 214\n",
            "Quantidade de G's: 201\n",
            "Quantidade de C's: 170\n",
            "Total de nucleotídeos na sequência: 890\n",
            "Conteúdo de GC: 41.68539325842697%\n",
            "\n"
          ]
        }
      ]
    },
    {
      "cell_type": "code",
      "source": [
        "temperatura_tm = []\n",
        "# Calcula a temperatura melting\n",
        "for i in range(len(ids_sequencias)):\n",
        "  tm = 64.9 + 0.41 * (conteudos_GC[i]) - (500 / total_nucleotideos[i])\n",
        "  temperatura_tm.append(tm)\n",
        "\n",
        "for i in range(len(ids_sequencias)):\n",
        "  print(f\"A temperatura melting da sequencia {ids_sequencias[i]} é de {temperatura_tm[i]}°C\")"
      ],
      "metadata": {
        "colab": {
          "base_uri": "https://localhost:8080/"
        },
        "id": "LInRfwohSxJH",
        "outputId": "6d7c469c-83ee-4228-bce0-46f83a5cda29"
      },
      "execution_count": null,
      "outputs": [
        {
          "output_type": "stream",
          "name": "stdout",
          "text": [
            "A temperatura melting da sequencia NC_007373.1 é de 82.11272960273388°C\n",
            "A temperatura melting da sequencia NC_007372.1 é de 82.00764630499786°C\n",
            "A temperatura melting da sequencia NC_007371.1 é de 81.77012987012988°C\n",
            "A temperatura melting da sequencia NC_007366.1 é de 81.83530079455166°C\n",
            "A temperatura melting da sequencia NC_007369.1 é de 83.35274584929758°C\n",
            "A temperatura melting da sequencia NC_007368.1 é de 82.08268575323791°C\n",
            "A temperatura melting da sequencia NC_007367.1 é de 83.57575462512172°C\n",
            "A temperatura melting da sequencia NC_007370.1 é de 81.42921348314607°C\n"
          ]
        }
      ]
    },
    {
      "cell_type": "code",
      "source": [
        "# Cria a tabela com as informações\n",
        "print(\"ID da sequência\\t\\tConteúdo de GC\\t\\t\\tTemperatura de melting (TM)\")\n",
        "\n",
        "for i in range(len(ids_sequencias)):\n",
        "    print(f\"{ids_sequencias[i]}\\t\\t{conteudos_GC[i]}%\\t\\t{temperatura_tm[i]}°C\")"
      ],
      "metadata": {
        "colab": {
          "base_uri": "https://localhost:8080/"
        },
        "id": "eSruzXJ0WwRW",
        "outputId": "6ed611f6-dce9-4dcf-d510-e22edce7c5b6"
      },
      "execution_count": null,
      "outputs": [
        {
          "output_type": "stream",
          "name": "stdout",
          "text": [
            "ID da sequência\t\tConteúdo de GC\t\t\tTemperatura de melting (TM)\n",
            "NC_007373.1\t\t42.503203759077316%\t\t82.11272960273388°C\n",
            "NC_007372.1\t\t42.24690303289192%\t\t82.00764630499786°C\n",
            "NC_007371.1\t\t41.692789968652036%\t\t81.77012987012988°C\n",
            "NC_007366.1\t\t41.99772985244041%\t\t81.83530079455166°C\n",
            "NC_007369.1\t\t45.785440613026815%\t\t83.35274584929758°C\n",
            "NC_007368.1\t\t42.740286298568506%\t\t82.08268575323791°C\n",
            "NC_007367.1\t\t46.73807205452775%\t\t83.57575462512172°C\n",
            "NC_007370.1\t\t41.68539325842697%\t\t81.42921348314607°C\n"
          ]
        }
      ]
    },
    {
      "cell_type": "code",
      "source": [
        "# Cria o gráfico do tipo scatter (pontos)\n",
        "plt.scatter(conteudos_GC, temperatura_tm)\n",
        "\n",
        "# Adiciona um título ao grafico\n",
        "plt.title('Conteúdo de GC x Temperatura de melting')\n",
        "\n",
        "# Adiciona rotulos a X e Y\n",
        "plt.xlabel('Conteúdo de GC (%)')\n",
        "plt.ylabel('Temperatura de melting (°C)')\n",
        "\n",
        "# Exibe o gráfico\n",
        "plt.show()"
      ],
      "metadata": {
        "colab": {
          "base_uri": "https://localhost:8080/",
          "height": 472
        },
        "id": "5-I6clfKaM5M",
        "outputId": "277e31b2-c7f0-4275-be10-96a040fc7e74"
      },
      "execution_count": null,
      "outputs": [
        {
          "output_type": "display_data",
          "data": {
            "text/plain": [
              "<Figure size 640x480 with 1 Axes>"
            ],
            "image/png": "[encoded data removed]"
          },
          "metadata": {}
        }
      ]
    }
  ],
  "metadata": {
    "colab": {
      "provenance": []
    },
    "kernelspec": {
      "display_name": "Python 3",
      "name": "python3"
    }
  },
  "nbformat": 4,
  "nbformat_minor": 0
}